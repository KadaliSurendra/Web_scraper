{
  "cells": [
    {
      "cell_type": "markdown",
      "metadata": {
        "id": "view-in-github",
        "colab_type": "text"
      },
      "source": [
        "<a href=\"https://colab.research.google.com/github/KadaliSurendra/Web_scraper/blob/main/Web_scraper.ipynb\" target=\"_parent\"><img src=\"https://colab.research.google.com/assets/colab-badge.svg\" alt=\"Open In Colab\"/></a>"
      ]
    },
    {
      "cell_type": "code",
      "source": [
        "import requests\n",
        "import json"
      ],
      "metadata": {
        "id": "ZKtQ46O9aE9D"
      },
      "execution_count": 2,
      "outputs": []
    },
    {
      "cell_type": "code",
      "source": [
        "res = requests.get('https://api.covid19india.org/data.json')\n",
        "res.status_code\n",
        "\n",
        "json_data = json.loads(res.text)\n",
        "print(json_data.keys())"
      ],
      "metadata": {
        "colab": {
          "base_uri": "https://localhost:8080/"
        },
        "id": "GAlWijnEaQHB",
        "outputId": "628e0f60-f728-4461-c5fb-5114393859cd"
      },
      "execution_count": 9,
      "outputs": [
        {
          "output_type": "stream",
          "name": "stdout",
          "text": [
            "dict_keys(['cases_time_series', 'statewise', 'tested'])\n"
          ]
        }
      ]
    },
    {
      "cell_type": "code",
      "source": [
        "\n",
        "#scrapping an image\n",
        "url ='https://www.google.com/imgres?q=dog%20images&imgurl=https%3A%2F%2Fimages.pexels.com%2Fphotos%2F1108099%2Fpexels-photo-1108099.jpeg&imgrefurl=https%3A%2F%2Fwww.pexels.com%2Fsearch%2Fdog%2F&docid=NzcFCDirz3vE7M&tbnid=rLyV376IoQ8n5M&vet=12ahUKEwiS4p34yeiHAxUrV2wGHZUSKqUQM3oECBwQAA..i&w=5184&h=3888&hcb=2&itg=1&ved=2ahUKEwiS4p34yeiHAxUrV2wGHZUSKqUQM3oECBwQAA'\n",
        "img = requests.get(url)\n",
        "with open('image.jpeg', 'wb') as f:\n",
        "    f.write(img.content)\n"
      ],
      "metadata": {
        "id": "95lpdOHndByf"
      },
      "execution_count": 17,
      "outputs": []
    },
    {
      "cell_type": "code",
      "source": [
        "with open(r'C:\\Users\\kadalisurendra\\Desktop\\TEAM_4-AI\\data.txt' , 'w') as f:\n",
        "    f.write('Hi')"
      ],
      "metadata": {
        "id": "P4AnVsHZA5Fb"
      },
      "execution_count": 3,
      "outputs": []
    },
    {
      "cell_type": "markdown",
      "source": [
        "# **Web Scrapping from bold text INDIA TODAY NEWS ARTICLE**"
      ],
      "metadata": {
        "id": "T6D0bU19VqfI"
      }
    },
    {
      "cell_type": "code",
      "source": [
        "import bs4\n",
        "import requests"
      ],
      "metadata": {
        "id": "VGVbFF5_OG7K"
      },
      "execution_count": 3,
      "outputs": []
    },
    {
      "cell_type": "code",
      "source": [
        "url = 'https://www.indiatoday.in/'\n",
        "res = requests.get(url)\n",
        "res.status_code"
      ],
      "metadata": {
        "colab": {
          "base_uri": "https://localhost:8080/"
        },
        "id": "HFObj07EONZy",
        "outputId": "e617e14c-ebbb-4b31-eb83-9f4f05539620"
      },
      "execution_count": 15,
      "outputs": [
        {
          "output_type": "execute_result",
          "data": {
            "text/plain": [
              "200"
            ]
          },
          "metadata": {},
          "execution_count": 15
        }
      ]
    },
    {
      "cell_type": "code",
      "source": [
        "text = res.content\n",
        "soup = bs4.BeautifulSoup(text,'html.parser')\n",
        "soup"
      ],
      "metadata": {
        "collapsed": true,
        "id": "qZmZD3_vPsnn"
      },
      "execution_count": null,
      "outputs": []
    },
    {
      "cell_type": "code",
      "source": [
        "soup.title.text"
      ],
      "metadata": {
        "colab": {
          "base_uri": "https://localhost:8080/",
          "height": 35
        },
        "id": "xWZB_RuV8ncK",
        "outputId": "d28fd618-290c-4d2f-bd3e-e96876ba971c"
      },
      "execution_count": 19,
      "outputs": [
        {
          "output_type": "execute_result",
          "data": {
            "text/plain": [
              "' Latest News, Breaking News Today - Entertainment, Cricket, Business, Politics - IndiaToday'"
            ],
            "application/vnd.google.colaboratory.intrinsic+json": {
              "type": "string"
            }
          },
          "metadata": {},
          "execution_count": 19
        }
      ]
    },
    {
      "cell_type": "code",
      "source": [
        "soup.find_all('h2')"
      ],
      "metadata": {
        "id": "pxbx3Jn99u7s"
      },
      "execution_count": null,
      "outputs": []
    },
    {
      "cell_type": "code",
      "source": [
        "\n",
        "def get_headlines(url):\n",
        "  try:\n",
        "    res = requests.get(url)\n",
        "    text = res.content\n",
        "    soup = bs4.BeautifulSoup(text,'html.parser')\n",
        "    Headlines = {}\n",
        "    for i in soup.find_all('h2'):\n",
        "\n",
        "        #title=i.text.strip()\n",
        "        if i.find('a'):\n",
        "          a_get = i.find('a')\n",
        "          link = a_get.get('href')\n",
        "          title = a_get.get('title')\n",
        "          if title:\n",
        "            Headlines[title] = 'https://www.indiatoday.in/'+link\n",
        "\n",
        "\n",
        "\n",
        "    # for i in Headlines:\n",
        "    #   print(i,' : ',Headlines[i])\n",
        "    #   print()\n",
        "    return Headlines\n",
        "  except requests.exceptions.RequestException as e:\n",
        "        print(f\"Error during request: {e}\")\n",
        "        return []\n",
        "  except AttributeError as e:\n",
        "        print(f\"Structure of the website may have changed: {e}\")\n",
        "        return []\n",
        "\n",
        "\n",
        "print(get_headlines('https://www.indiatoday.in/'))"
      ],
      "metadata": {
        "colab": {
          "base_uri": "https://localhost:8080/"
        },
        "id": "as2lxO5KDgpZ",
        "outputId": "88d66336-327f-4f02-fd66-32564dcc78c3"
      },
      "execution_count": 65,
      "outputs": [
        {
          "output_type": "stream",
          "name": "stdout",
          "text": [
            "{'Kolkata doctor murder case: How a bluetooth device led to arrest of accused': 'https://www.indiatoday.in//india/story/kolkata-doctor-murder-accused-arrested-bluetooth-device-mamata-banerjee-seeks-death-penalty-2580328-2024-08-10', \"Olympics: Deadline for decision on Vinesh Phogat's plea extended till August 11\": 'https://www.indiatoday.in//sports/olympics/story/olympics-deadline-for-decision-on-vinesh-phogats-plea-extended-till-august-11-2580391-2024-08-10', 'This disaster is not normal: PM after spot visit to landside-hit Wayanad': 'https://www.indiatoday.in//india/kerala/story/wayanad-landslide-pm-narendra-modi-kerala-chooralmala-visit-pinarayi-vijayan-2580281-2024-08-10', \"2 soldiers killed in gunfight with terrorists in J&K's Anantnag: Sources\": 'https://www.indiatoday.in//india/story/terrorists-security-forces-gunfight-jammu-and-kashmir-anantnag-2580273-2024-08-10', \"When 'Battling Begums' joined hands to save democracy in Bangladesh\": 'https://www.indiatoday.in//world/story/sheikh-hasina-khaleda-zia-bangladesh-crisis-hussain-muhammad-ershad-2578776-2024-08-10', 'Bangladesh Chief Justice forced to resign amid protests': 'https://www.indiatoday.in//world/story/bangladesh-supreme-court-protesters-ask-chief-justice-to-resign-2580198-2024-08-10', 'TV Somanathan, 1987-batch IAS officer, appointed Cabinet Secretary': 'https://www.indiatoday.in//india/story/tv-somnathan-1987-batch-ias-officer-appointed-cabinet-secretary-2580316-2024-08-10', \"Mamata Banerjee's first remark on doctor's murder: Will hang accused, if needed\": 'https://www.indiatoday.in//india/story/mamata-banerjee-kolkata-trainee-doctor-murder-accused-hanged-first-reaction-2580221-2024-08-10', 'Malaika Arora on ageing: People are obsessed because I look like this': 'https://www.indiatoday.in//movies/celebrities/story/malaika-arora-on-ageing-people-are-obsessed-because-i-look-like-this-2580280-2024-08-10', \"Reetika Hooda suffers countback defeat in Women's 76kg quarter-final\": 'https://www.indiatoday.in//sports/olympics/story/paris-olympics-reetika-hooda-medet-kyzy-aiperi-womens-wrestling-quarter-final-2580295-2024-08-10', 'No cops on streets, students manage traffic as Dhaka picks up pieces': 'https://www.indiatoday.in//world/story/bangladesh-protests-dhaka-ground-report-police-army-hindus-attacked-2580297-2024-08-10', 'Something big soon in India: Hindenburg hints at another report after\\xa0Adani\\xa0Group': 'https://www.indiatoday.in//business/story/something-big-soon-in-india-hinderburg-hints-at-another-report-after-adani-group-2580263-2024-08-10', 'Unlocking the holiday appeal: Why Bollywood films thrive during festive periods': 'https://www.indiatoday.in//movies/bollywood/story/why-bollywood-films-thrive-during-festive-periods-2579846-2024-08-10', \"Rave party at Noida's high rise busted, 35 college students detained\": 'https://www.indiatoday.in//cities/noida/story/rave-party-at-noida-supertech-supernova-busted-college-students-detained-alcohol-hookah-2580264-2024-08-10', \"Russia says working on discharge of Indians who 'voluntarily' joined its Army\": 'https://www.indiatoday.in//india/story/indians-in-russia-army-ukraine-war-moscow-working-with-india-early-discharge-putin-2580282-2024-08-10', 'Delhi-NCR reels under waterlogging amid heavy rain, 2 injured in wall collapse': 'https://www.indiatoday.in//india/story/delhi-ncr-heavy-rain-waterlogging-traffic-advisory-imd-weather-forecast-2580258-2024-08-10', 'Shah Rukh Khan arrives in Switzerland for 77th Locarno Film Festival': 'https://www.indiatoday.in//movies/celebrities/story/shah-rukh-khan-in-switzerland-ahead-of-77th-locarno-film-festival-2580324-2024-08-10', 'Watch: Indian hockey team gets grand welcome, Air India gives special gesture': 'https://www.indiatoday.in//sports/olympics/story/paris-olympics-2024-indian-hockey-team-gets-grand-welcome-air-india-gesture-2580187-2024-08-10', \"India should think before giving Sheikh Hasina asylum: Khaleda Zia's party leader\": 'https://www.indiatoday.in//world/story/bangladesh-crisis-bnp-mirza-fakhrul-alamgir-india-sheikh-hasina-asylum-2580310-2024-08-10', 'When Olympics had art contests and an Indian won a silver': 'https://www.indiatoday.in//sports/paris-olympics-2024/story/first-indian-to-win-olympic-games-medal-art-in-olympics-artist-representing-great-britain-chintamoni-kar-2579711-2024-08-10', \"Japan issues first-ever 'megaquake' advisory: Prepare for the worst\": 'https://www.indiatoday.in//world/story/japan-issues-first-megaquake-advisory-2580212-2024-08-10', 'Question Time: Weekly News Quiz': 'https://www.indiatoday.in/https://www.indiatoday.in/interactive/quiz/entertainment/weekly-news-quiz-entertainment-sports-politics-416-09-08-2024', \"'Who are we? Bengalis': Hundreds hit Bangladesh streets over attacks on Hindus\": 'https://www.indiatoday.in//world/story/bangladesh-crisis-hindus-protest-dhaka-streets-attacks-minorities-temples-2580148-2024-08-10', 'Shedding 4.6 kg in 10 hours, Aman Sehrawat clears weigh-in, wins Olympic bronze': 'https://www.indiatoday.in//sports/olympics/story/paris-olympics-2024-wrestling-aman-sehrawat-losing-46-kg-bronze-medal-2580163-2024-08-10', 'Videos': 'https://www.indiatoday.in//videos', \"Uorfi Javed's 'Follow Kar Lo Yaar' to release on Prime Video in August\": 'https://www.indiatoday.in//television/web-series/story/uorfi-javed-follow-kar-lo-yaar-to-release-on-prime-video-in-august-2580365-2024-08-10', 'Aamir Khan on retirement: Thought it was the last leg of my career during Covid': 'https://www.indiatoday.in//movies/bollywood/story/aamir-khan-opens-up-about-retirement-2580337-2024-08-10', \"Snow White: It is Gal Gadot's evil queen vs Rachel Zegler's heroine\": 'https://www.indiatoday.in//movies/hollywood/story/snow-white-teaser-it-is-gal-gadot-evil-queen-vs-rachel-zegler-heroine-2580308-2024-08-10'}\n"
          ]
        }
      ]
    },
    {
      "cell_type": "code",
      "source": [
        "import sqlite3\n",
        "\n",
        "def create_database():\n",
        "    conn = sqlite3.connect('scraper_data.db')\n",
        "    c = conn.cursor()\n",
        "    c.execute('''CREATE TABLE IF NOT EXISTS news\n",
        "                 (id INTEGER PRIMARY KEY AUTOINCREMENT, title TEXT, link TEXT, date_scraped TIMESTAMP DEFAULT CURRENT_TIMESTAMP)''')\n",
        "    conn.commit()\n",
        "    conn.close()\n",
        "\n",
        "def store_data(data):\n",
        "    conn = sqlite3.connect('scraper_data.db')\n",
        "    c = conn.cursor()\n",
        "    c.executemany('INSERT INTO news (title, link) VALUES (?, ?)', data)\n",
        "    conn.commit()\n",
        "    conn.close()\n"
      ],
      "metadata": {
        "id": "JVxgMgI4UlzL"
      },
      "execution_count": 66,
      "outputs": []
    },
    {
      "cell_type": "code",
      "source": [
        "create_database()\n",
        "store_data(get_headlines('https://www.indiatoday.in/').items())"
      ],
      "metadata": {
        "id": "Uej9HvG5Uruc"
      },
      "execution_count": 67,
      "outputs": []
    },
    {
      "cell_type": "code",
      "source": [
        "\n",
        "\n",
        "def retrieve_data():\n",
        "    # Connect to the SQLite database file\n",
        "    conn = sqlite3.connect('scraper_data.db')\n",
        "    # Create a cursor object to execute SQL commands\n",
        "    c = conn.cursor()\n",
        "    # Execute a SELECT query to retrieve all records\n",
        "    c.execute('SELECT * FROM news')\n",
        "    # Fetch all results from the executed query\n",
        "    rows = c.fetchall()\n",
        "    # Close the connection\n",
        "    conn.close()\n",
        "    return rows\n",
        "\n",
        "# Example usage\n",
        "data = retrieve_data()\n",
        "for row in data:\n",
        "    print(row)\n"
      ],
      "metadata": {
        "colab": {
          "base_uri": "https://localhost:8080/"
        },
        "id": "CZAbj55fVQrt",
        "outputId": "d1c2b714-1fc1-4fda-edd7-63c54f08af3d"
      },
      "execution_count": 68,
      "outputs": [
        {
          "output_type": "stream",
          "name": "stdout",
          "text": [
            "(1, 'Hindenburg claims Sebi chief had stake in offshore funds linked to Adani scandal', 'https://www.indiatoday.in//business/story/hindenburg-new-report-sebi-chief-madhabi-puri-buch-stake-in-offshore-entities-linked-to-adani-group-2580406-2024-08-10', '2024-08-10 17:27:12')\n",
            "(2, 'Kolkata doctor murder case: How a bluetooth device led to arrest of accused', 'https://www.indiatoday.in//india/story/kolkata-doctor-murder-accused-arrested-bluetooth-device-mamata-banerjee-seeks-death-penalty-2580328-2024-08-10', '2024-08-10 17:27:12')\n",
            "(3, \"Olympics: Deadline for decision on Vinesh Phogat's plea extended till August 11\", 'https://www.indiatoday.in//sports/olympics/story/olympics-deadline-for-decision-on-vinesh-phogats-plea-extended-till-august-11-2580391-2024-08-10', '2024-08-10 17:27:12')\n",
            "(4, 'This disaster is not normal: PM after spot visit to landside-hit Wayanad', 'https://www.indiatoday.in//india/kerala/story/wayanad-landslide-pm-narendra-modi-kerala-chooralmala-visit-pinarayi-vijayan-2580281-2024-08-10', '2024-08-10 17:27:12')\n",
            "(5, \"When 'Battling Begums' joined hands to save democracy in Bangladesh\", 'https://www.indiatoday.in//world/story/sheikh-hasina-khaleda-zia-bangladesh-crisis-hussain-muhammad-ershad-2578776-2024-08-10', '2024-08-10 17:27:12')\n",
            "(6, \"2 soldiers killed in gunfight with terrorists in J&K's Anantnag: Sources\", 'https://www.indiatoday.in//india/story/terrorists-security-forces-gunfight-jammu-and-kashmir-anantnag-2580273-2024-08-10', '2024-08-10 17:27:12')\n",
            "(7, 'Bangladesh Chief Justice forced to resign amid protests', 'https://www.indiatoday.in//world/story/bangladesh-supreme-court-protesters-ask-chief-justice-to-resign-2580198-2024-08-10', '2024-08-10 17:27:12')\n",
            "(8, 'TV Somanathan, 1987-batch IAS officer, appointed Cabinet Secretary', 'https://www.indiatoday.in//india/story/tv-somnathan-1987-batch-ias-officer-appointed-cabinet-secretary-2580316-2024-08-10', '2024-08-10 17:27:12')\n",
            "(9, 'Malaika Arora on ageing: People are obsessed because I look like this', 'https://www.indiatoday.in//movies/celebrities/story/malaika-arora-on-ageing-people-are-obsessed-because-i-look-like-this-2580280-2024-08-10', '2024-08-10 17:27:12')\n",
            "(10, \"Mamata Banerjee's first remark on doctor's murder: Will hang accused, if needed\", 'https://www.indiatoday.in//india/story/mamata-banerjee-kolkata-trainee-doctor-murder-accused-hanged-first-reaction-2580221-2024-08-10', '2024-08-10 17:27:12')\n",
            "(11, \"Reetika Hooda suffers countback defeat in Women's 76kg quarter-final\", 'https://www.indiatoday.in//sports/olympics/story/paris-olympics-reetika-hooda-medet-kyzy-aiperi-womens-wrestling-quarter-final-2580295-2024-08-10', '2024-08-10 17:27:12')\n",
            "(12, 'No cops on streets, students manage traffic as Dhaka picks up pieces', 'https://www.indiatoday.in//world/story/bangladesh-protests-dhaka-ground-report-police-army-hindus-attacked-2580297-2024-08-10', '2024-08-10 17:27:12')\n",
            "(13, 'Unlocking the holiday appeal: Why Bollywood films thrive during festive periods', 'https://www.indiatoday.in//movies/bollywood/story/why-bollywood-films-thrive-during-festive-periods-2579846-2024-08-10', '2024-08-10 17:27:12')\n",
            "(14, \"Rave party at Noida's high rise busted, 35 college students detained\", 'https://www.indiatoday.in//cities/noida/story/rave-party-at-noida-supertech-supernova-busted-college-students-detained-alcohol-hookah-2580264-2024-08-10', '2024-08-10 17:27:12')\n",
            "(15, \"Russia says working on discharge of Indians who 'voluntarily' joined its Army\", 'https://www.indiatoday.in//india/story/indians-in-russia-army-ukraine-war-moscow-working-with-india-early-discharge-putin-2580282-2024-08-10', '2024-08-10 17:27:12')\n",
            "(16, 'Delhi-NCR reels under waterlogging amid heavy rain, 2 injured in wall collapse', 'https://www.indiatoday.in//india/story/delhi-ncr-heavy-rain-waterlogging-traffic-advisory-imd-weather-forecast-2580258-2024-08-10', '2024-08-10 17:27:12')\n",
            "(17, 'Shah Rukh Khan arrives in Switzerland for 77th Locarno Film Festival', 'https://www.indiatoday.in//movies/celebrities/story/shah-rukh-khan-in-switzerland-ahead-of-77th-locarno-film-festival-2580324-2024-08-10', '2024-08-10 17:27:12')\n",
            "(18, 'Watch: Indian hockey team gets grand welcome, Air India gives special gesture', 'https://www.indiatoday.in//sports/olympics/story/paris-olympics-2024-indian-hockey-team-gets-grand-welcome-air-india-gesture-2580187-2024-08-10', '2024-08-10 17:27:12')\n",
            "(19, \"India should think before giving Sheikh Hasina asylum: Khaleda Zia's party leader\", 'https://www.indiatoday.in//world/story/bangladesh-crisis-bnp-mirza-fakhrul-alamgir-india-sheikh-hasina-asylum-2580310-2024-08-10', '2024-08-10 17:27:12')\n",
            "(20, 'When Olympics had art contests and an Indian won a silver', 'https://www.indiatoday.in//sports/paris-olympics-2024/story/first-indian-to-win-olympic-games-medal-art-in-olympics-artist-representing-great-britain-chintamoni-kar-2579711-2024-08-10', '2024-08-10 17:27:12')\n",
            "(21, \"Japan issues first-ever 'megaquake' advisory: Prepare for the worst\", 'https://www.indiatoday.in//world/story/japan-issues-first-megaquake-advisory-2580212-2024-08-10', '2024-08-10 17:27:12')\n",
            "(22, 'Question Time: Weekly News Quiz', 'https://www.indiatoday.in/https://www.indiatoday.in/interactive/quiz/entertainment/weekly-news-quiz-entertainment-sports-politics-416-09-08-2024', '2024-08-10 17:27:12')\n",
            "(23, \"'Who are we? Bengalis': Hundreds hit Bangladesh streets over attacks on Hindus\", 'https://www.indiatoday.in//world/story/bangladesh-crisis-hindus-protest-dhaka-streets-attacks-minorities-temples-2580148-2024-08-10', '2024-08-10 17:27:12')\n",
            "(24, 'Shedding 4.6 kg in 10 hours, Aman Sehrawat clears weigh-in, wins Olympic bronze', 'https://www.indiatoday.in//sports/olympics/story/paris-olympics-2024-wrestling-aman-sehrawat-losing-46-kg-bronze-medal-2580163-2024-08-10', '2024-08-10 17:27:12')\n",
            "(25, 'Videos', 'https://www.indiatoday.in//videos', '2024-08-10 17:27:12')\n",
            "(26, \"Uorfi Javed's 'Follow Kar Lo Yaar' to release on Prime Video in August\", 'https://www.indiatoday.in//television/web-series/story/uorfi-javed-follow-kar-lo-yaar-to-release-on-prime-video-in-august-2580365-2024-08-10', '2024-08-10 17:27:12')\n",
            "(27, 'Aamir Khan on retirement: Thought it was the last leg of my career during Covid', 'https://www.indiatoday.in//movies/bollywood/story/aamir-khan-opens-up-about-retirement-2580337-2024-08-10', '2024-08-10 17:27:12')\n",
            "(28, \"Snow White: It is Gal Gadot's evil queen vs Rachel Zegler's heroine\", 'https://www.indiatoday.in//movies/hollywood/story/snow-white-teaser-it-is-gal-gadot-evil-queen-vs-rachel-zegler-heroine-2580308-2024-08-10', '2024-08-10 17:27:12')\n"
          ]
        }
      ]
    }
  ],
  "metadata": {
    "colab": {
      "name": "Welcome To Colab",
      "provenance": [],
      "include_colab_link": true
    },
    "kernelspec": {
      "display_name": "Python 3",
      "name": "python3"
    }
  },
  "nbformat": 4,
  "nbformat_minor": 0
}